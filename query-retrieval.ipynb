{
 "cells": [
  {
   "cell_type": "markdown",
   "metadata": {},
   "source": [
    "# Retrieving queries from the vector database"
   ]
  },
  {
   "cell_type": "code",
   "execution_count": 2,
   "metadata": {},
   "outputs": [],
   "source": [
    "import pandas as pd\n",
    "from llama_index.embeddings.huggingface import HuggingFaceEmbedding\n",
    "from llama_index.llms.llama_cpp import LlamaCPP\n",
    "from llama_index.core.vector_stores import VectorStoreQuery\n",
    "from dotenv import load_dotenv, find_dotenv\n",
    "import os\n",
    "import psycopg2\n",
    "from llama_index.vector_stores.postgres import PGVectorStore\n",
    "from llama_index.core.schema import NodeWithScore\n",
    "from typing import Optional\n",
    "from vector_db_retriever import VectorDBRetriever\n",
    "from llama_index.core import Settings"
   ]
  },
  {
   "cell_type": "markdown",
   "metadata": {},
   "source": [
    "## Loading the LLM and sentence transformers"
   ]
  },
  {
   "cell_type": "code",
   "execution_count": 2,
   "metadata": {},
   "outputs": [],
   "source": [
    "embed_model = HuggingFaceEmbedding(model_name=\"BAAI/bge-small-en\")"
   ]
  },
  {
   "cell_type": "code",
   "execution_count": 3,
   "metadata": {},
   "outputs": [
    {
     "name": "stderr",
     "output_type": "stream",
     "text": [
      "Loading checkpoint shards:   0%|          | 0/2 [00:00<?, ?it/s]"
     ]
    }
   ],
   "source": [
    "from llama_index.llms.huggingface import HuggingFaceLLM\n",
    "from llama_index.core import PromptTemplate\n",
    "\n",
    "system_prompt = \"\"\"<|SYSTEM|># StableLM Tuned (Alpha version)\n",
    "- StableLM is a helpful and harmless open-source AI language model developed by StabilityAI.\n",
    "- StableLM is excited to be able to help the user, but will refuse to do anything that could be considered harmful to the user.\n",
    "- StableLM is more than just an information source, StableLM is also able to write poetry, short stories, and make jokes.\n",
    "- StableLM will refuse to participate in anything that could harm a human.\n",
    "\"\"\"\n",
    "\n",
    "# This will wrap the default prompts that are internal to llama-index\n",
    "query_wrapper_prompt = PromptTemplate(\"<|USER|>{query_str}<|ASSISTANT|>\")\n",
    "\n",
    "llm = HuggingFaceLLM(\n",
    "    context_window=4096,\n",
    "    max_new_tokens=256,\n",
    "    generate_kwargs={\"temperature\": 0.7, \"do_sample\": False},\n",
    "    system_prompt=system_prompt,\n",
    "    query_wrapper_prompt=query_wrapper_prompt,\n",
    "    tokenizer_name=\"StabilityAI/stablelm-tuned-alpha-3b\",\n",
    "    model_name=\"StabilityAI/stablelm-tuned-alpha-3b\",\n",
    "    device_map=\"auto\",\n",
    "    stopping_ids=[50278, 50279, 50277, 1, 0],\n",
    "    tokenizer_kwargs={\"max_length\": 4096},\n",
    "    # uncomment this if using CUDA to reduce memory usage\n",
    "    model_kwargs={\"offload_folder\":\"offload\"}\n",
    ")\n",
    "\n",
    "Settings.llm = llm\n",
    "Settings.chunk_size = 1024"
   ]
  },
  {
   "cell_type": "markdown",
   "metadata": {},
   "source": [
    "## Initialising the vector store"
   ]
  },
  {
   "cell_type": "code",
   "execution_count": 4,
   "metadata": {},
   "outputs": [],
   "source": [
    "load_dotenv(find_dotenv())\n",
    "os.environ[\"OPENAI_API_KEY\"] = os.getenv(\"OPENAI_API_KEY\")"
   ]
  },
  {
   "cell_type": "code",
   "execution_count": 5,
   "metadata": {},
   "outputs": [],
   "source": [
    "db_name = \"vectors_db\"\n",
    "host = \"localhost\"\n",
    "password = os.getenv(\"POSTGRES_PW\")\n",
    "port = \"5432\"\n",
    "user = \"postgres\"\n",
    "\n",
    "conn = psycopg2.connect(\n",
    "    dbname=\"postgres\",\n",
    "    host=host,\n",
    "    password=password,\n",
    "    port=port,\n",
    "    user=user,\n",
    ")\n",
    "conn.autocommit = True\n",
    "\n",
    "vector_store = PGVectorStore.from_params(\n",
    "    database=db_name,\n",
    "    host=host,\n",
    "    password=password,\n",
    "    port=port,\n",
    "    user=user,\n",
    "    table_name=\"llama2_paper\",\n",
    "    embed_dim=384,  # openai embedding dimension\n",
    ")"
   ]
  },
  {
   "cell_type": "markdown",
   "metadata": {},
   "source": [
    "# Retrieval"
   ]
  },
  {
   "cell_type": "markdown",
   "metadata": {},
   "source": [
    "##  Parse Result into a Set of Nodes"
   ]
  },
  {
   "cell_type": "code",
   "execution_count": 6,
   "metadata": {},
   "outputs": [],
   "source": [
    "def get_top_result_from_vector_store(query_str, vector_store, query_mode=\"default\"):\n",
    "    query_embedding = embed_model.get_query_embedding(query_str)\n",
    "    vector_store_query = VectorStoreQuery(\n",
    "    query_embedding=query_embedding, similarity_top_k=2, mode=query_mode\n",
    "    )\n",
    "    query_result = vector_store.query(vector_store_query)\n",
    "    print(query_result.nodes[0].get_content())\n",
    "    return query_result"
   ]
  },
  {
   "cell_type": "code",
   "execution_count": 7,
   "metadata": {},
   "outputs": [
    {
     "name": "stdout",
     "output_type": "stream",
     "text": [
      "After the renewed premises of the Vilnius TV Tower were opened on Tuesday, it is now possible to rent apartments at the historic building for between 796 and 954 euros per night.The Vilnius TV Tower now has a refurbished bar, a meeting room, and two apartments, called Upė (River) and Miestas (City). According to the booking.com website, the apartments can be booked from next week. They are rented directly to customers by the state-owned Lithuanian Radio and Television Centre (Telecentras).According to Valdas Kaminskas, head of communications at Telecentras, the apartments oversee different panoramas of the city.“One view is directed towards Vingis Park, while the other is more towards the city. The apartments are dominated by an oval shape, which echoes the roundness of the TV Tower,” he said.Asked about the price, Kaminskas noted that apartments are aimed at an exclusive segment of consumers.“These are the people who can either afford or are curious and can rent, try, experience a certain luxury,” he said, adding that the price is similar to apartments in TV Towers in other countries.With an opening event on Tuesday, the state-owned Telecentras completed a part of the reconstruction of the Vilnius TV Tower, worth 5.35 million euros.“With the opening of the new spaces in the upper cup of the TV tower, the reconstruction works will continue – they will move to the restaurant Paukščių Takas. On the floor below the restaurant, it is also planned to open another open observation deck,” Remigijus Šeris, the head of Telecentras, said at the event.On Tuesday, the bistro-bar Toliai opened on the 67th floor of the tower and the meeting room, with lounges for small events, opened on the floor above it.The Vilnius TV Tower is the tallest building in Lithuania and is included in the Cultural Heritage Register. The 326-metre-high tower was built in 1980.Weekly newsletter every Friday\n"
     ]
    }
   ],
   "source": [
    "query_str = \"Tell me about the Vilnius TV tower\"\n",
    "query_result = get_top_result_from_vector_store(query_str, vector_store, query_mode=\"default\")"
   ]
  },
  {
   "cell_type": "code",
   "execution_count": 8,
   "metadata": {},
   "outputs": [],
   "source": [
    "nodes_with_scores = []\n",
    "for index, node in enumerate(query_result.nodes):\n",
    "    score: Optional[float] = None\n",
    "    if query_result.similarities is not None:\n",
    "        score = query_result.similarities[index]\n",
    "    nodes_with_scores.append(NodeWithScore(node=node, score=score))"
   ]
  },
  {
   "cell_type": "code",
   "execution_count": 9,
   "metadata": {},
   "outputs": [
    {
     "data": {
      "text/plain": [
       "[NodeWithScore(node=TextNode(id_='d29acc21-137e-4e24-a4c4-ebd8f932b943', embedding=None, metadata={'source_url': ''}, excluded_embed_metadata_keys=[], excluded_llm_metadata_keys=[], relationships={}, text='After the renewed premises of the Vilnius TV Tower were opened on Tuesday, it is now possible to rent apartments at the historic building for between 796 and 954 euros per night.The Vilnius TV Tower now has a refurbished bar, a meeting room, and two apartments, called Upė (River) and Miestas (City). According to the booking.com website, the apartments can be booked from next week. They are rented directly to customers by the state-owned Lithuanian Radio and Television Centre (Telecentras).According to Valdas Kaminskas, head of communications at Telecentras, the apartments oversee different panoramas of the city.“One view is directed towards Vingis Park, while the other is more towards the city. The apartments are dominated by an oval shape, which echoes the roundness of the TV Tower,” he said.Asked about the price, Kaminskas noted that apartments are aimed at an exclusive segment of consumers.“These are the people who can either afford or are curious and can rent, try, experience a certain luxury,” he said, adding that the price is similar to apartments in TV Towers in other countries.With an opening event on Tuesday, the state-owned Telecentras completed a part of the reconstruction of the Vilnius TV Tower, worth 5.35 million euros.“With the opening of the new spaces in the upper cup of the TV tower, the reconstruction works will continue – they will move to the restaurant Paukščių Takas. On the floor below the restaurant, it is also planned to open another open observation deck,” Remigijus Šeris, the head of Telecentras, said at the event.On Tuesday, the bistro-bar Toliai opened on the 67th floor of the tower and the meeting room, with lounges for small events, opened on the floor above it.The Vilnius TV Tower is the tallest building in Lithuania and is included in the Cultural Heritage Register. The 326-metre-high tower was built in 1980.Weekly newsletter every Friday', start_char_idx=None, end_char_idx=None, text_template='{metadata_str}\\n\\n{content}', metadata_template='{key}: {value}', metadata_seperator='\\n'), score=0.9102805852890015),\n",
       " NodeWithScore(node=TextNode(id_='7de6f92f-e6c8-497f-9c1c-d76cf874f4e2', embedding=None, metadata={'source_url': ''}, excluded_embed_metadata_keys=[], excluded_llm_metadata_keys=[], relationships={}, text='In January 1981, the 326-metre television tower, the tallest building in Lithuania, was completed and inaugurated in Vilnius.In 1979, Vilnius University celebrated its 400th anniversary with spectacular celebrations. Despite its Soviet overtones, the huge celebration was a boost to the self-esteem of Vilnius University as the oldest university in Eastern Europe (older than Moscow University).In 1987, the first unsanctioned rally was held at the monument to Adam Mickiewicz, publicly denouncing the secret protocols of the Soviet-German Non-Aggression Pact of 23 August 1939. The August 1988 rally in Vingio Park and the September rally in Cathedral Square, violently attacked by the police, became symbols of the “Singing Revolution”.On 22 October 1988, the Sąjūdis congress proclaimed the return of the Cathedral, which was used as a museum, to the Catholic Church. In the morning of 23 October, Lithuanian bishops and Cardinal Vincentas Sladkevičius celebrated the Mass at the door of the Cathedral.On 11 March 1990, the Supreme Council of the Lithuanian SSR in Vilnius proclaimed Lithuania’s independence.On 13 January 1991, in last-ditch attempt to regain control, Soviet tanks, armoured personnel carriers and armed soldiers stormed the Vilnius TV Tower and the Lithuanian Radio and Television building. Fourteen civilians were killed and over a thousand wounded.The capital of independent LithuaniaOn 23 August 1991, the City Council decided to remove the Lenin monument in Lukiškių Square. The images of the Soviet monument being dismantled amidst shouts of joy and applause went around the world.In 1992 and 2000, the Polish Nobel Prize-winning author and graduate of Stepan Batory University Czesław Miłosz visited Vilnius and his alma mater. On the occasion of the 100th anniversary of Miłosz’s birth, a plaque was unveiled in the Sarbievius Courtyard of Vilnius University.On 17 December 1994, the historic centre of Vilnius was added to the UNESCO World Heritage List.On 22 September 1996, at the foot of Gediminas Hill, near the Cathedral, a monument to Grand Duke Gediminas was unveiled, designed by the Lithuanian expatriate sculptor Vytautas Kašuba and made by the sculptor Mindaugas Šnipas. The monument was hotly debated at the time, with controversy surrounding both its artistic solution and the chosen location.On 1 January 2009, Vilnius became the European Capital of Culture. Around 1,500 events took place during the year, attended by around 1.5 million people.On 6 July 2018, the completed Palace of the Grand Dukes was inaugurated in Vilnius. The Palace of the Grand Dukes, which was demolished 200 years ago, was rebuilt over the excavated remains of the original edifice. The first part of the palace was opened to visitors in 2013, but the entire construction took 15 years and cost over 100 million euros.On 6 October 2018, partisan commander Adolfas Ramanauskas-Vanagas was honoured with a state funeral. His remains, found a few months previously in the Orphans’ Cemetery, were ceremoniously reburied in the Pantheon of Heads of State in Antakalnis Cemetery.In July 2019, Lukiškės Prison in the centre of Vilnius was closed after its last inmates were moved out. The complex of buildings, built in 1904 and recognised as a cultural heritage site, became an events space.After 24 February 2022, Vilnius welcomed refugees from Ukraine and held numerous support rallies for the country under attack. More than 20,000 refugees from Ukraine have taken refuge in Vilnius. On 9 March, Vilnius City Council named a stretch of an unnamed street leading to the Russian Embassy after the Ukrainian Heroes.', start_char_idx=None, end_char_idx=None, text_template='{metadata_str}\\n\\n{content}', metadata_template='{key}: {value}', metadata_seperator='\\n'), score=0.9019476829798426)]"
      ]
     },
     "execution_count": 9,
     "metadata": {},
     "output_type": "execute_result"
    }
   ],
   "source": [
    "nodes_with_scores"
   ]
  },
  {
   "cell_type": "markdown",
   "metadata": {},
   "source": [
    "## Plugging into RetrieverQueryEngine"
   ]
  },
  {
   "cell_type": "code",
   "execution_count": null,
   "metadata": {},
   "outputs": [],
   "source": [
    "retriever = VectorDBRetriever(\n",
    "    vector_store, embed_model, query_mode=\"default\", similarity_top_k=2\n",
    ")"
   ]
  },
  {
   "cell_type": "code",
   "execution_count": null,
   "metadata": {},
   "outputs": [
    {
     "name": "stderr",
     "output_type": "stream",
     "text": [
      "Batches: 100%|██████████| 1/1 [00:06<00:00,  6.54s/it]\n"
     ]
    }
   ],
   "source": [
    "from llama_index.core.query_engine import RetrieverQueryEngine\n",
    "\n",
    "query_engine = RetrieverQueryEngine.from_args(retriever, llm=llm)\n",
    "\n",
    "query_str = \"Tell me about the Vilnius TV tower\"\n",
    "\n",
    "response = query_engine.query(query_str)"
   ]
  },
  {
   "cell_type": "code",
   "execution_count": null,
   "metadata": {},
   "outputs": [],
   "source": [
    "print(str(response))"
   ]
  }
 ],
 "metadata": {
  "kernelspec": {
   "display_name": ".venv",
   "language": "python",
   "name": "python3"
  },
  "language_info": {
   "codemirror_mode": {
    "name": "ipython",
    "version": 3
   },
   "file_extension": ".py",
   "mimetype": "text/x-python",
   "name": "python",
   "nbconvert_exporter": "python",
   "pygments_lexer": "ipython3",
   "version": "3.11.8"
  }
 },
 "nbformat": 4,
 "nbformat_minor": 2
}
