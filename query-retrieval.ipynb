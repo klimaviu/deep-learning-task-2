{
 "cells": [
  {
   "cell_type": "markdown",
   "metadata": {},
   "source": [
    "# Retrieving queries from the vector database"
   ]
  },
  {
   "cell_type": "code",
   "execution_count": 2,
   "metadata": {},
   "outputs": [],
   "source": [
    "import pandas as pd\n",
    "from llama_index.embeddings.huggingface import HuggingFaceEmbedding\n",
    "from llama_index.llms.llama_cpp import LlamaCPP\n",
    "from llama_index.core.vector_stores import VectorStoreQuery\n",
    "from dotenv import load_dotenv, find_dotenv\n",
    "import os\n",
    "import psycopg2\n",
    "from llama_index.vector_stores.postgres import PGVectorStore\n",
    "from llama_index.core.schema import NodeWithScore\n",
    "from typing import Optional\n",
    "from vector_db_retriever import VectorDBRetriever\n",
    "from llama_index.core import Settings"
   ]
  },
  {
   "cell_type": "markdown",
   "metadata": {},
   "source": [
    "## Loading the LLM and sentence transformers"
   ]
  },
  {
   "cell_type": "code",
   "execution_count": 2,
   "metadata": {},
   "outputs": [],
   "source": [
    "embed_model = HuggingFaceEmbedding(model_name=\"BAAI/bge-small-en\")"
   ]
  },
  {
   "cell_type": "code",
   "execution_count": 12,
   "metadata": {},
   "outputs": [
    {
     "name": "stderr",
     "output_type": "stream",
     "text": [
      "llama_model_loader: loaded meta data with 19 key-value pairs and 363 tensors from C:/Users/Ugne/AppData/Local/llama_index/models/llama-2-13b-chat.Q4_0.gguf (version GGUF V2)\n",
      "llama_model_loader: Dumping metadata keys/values. Note: KV overrides do not apply in this output.\n",
      "llama_model_loader: - kv   0:                       general.architecture str              = llama\n",
      "llama_model_loader: - kv   1:                               general.name str              = LLaMA v2\n",
      "llama_model_loader: - kv   2:                       llama.context_length u32              = 4096\n",
      "llama_model_loader: - kv   3:                     llama.embedding_length u32              = 5120\n",
      "llama_model_loader: - kv   4:                          llama.block_count u32              = 40\n",
      "llama_model_loader: - kv   5:                  llama.feed_forward_length u32              = 13824\n",
      "llama_model_loader: - kv   6:                 llama.rope.dimension_count u32              = 128\n",
      "llama_model_loader: - kv   7:                 llama.attention.head_count u32              = 40\n",
      "llama_model_loader: - kv   8:              llama.attention.head_count_kv u32              = 40\n",
      "llama_model_loader: - kv   9:     llama.attention.layer_norm_rms_epsilon f32              = 0.000010\n",
      "llama_model_loader: - kv  10:                          general.file_type u32              = 2\n",
      "llama_model_loader: - kv  11:                       tokenizer.ggml.model str              = llama\n",
      "llama_model_loader: - kv  12:                      tokenizer.ggml.tokens arr[str,32000]   = [\"<unk>\", \"<s>\", \"</s>\", \"<0x00>\", \"<...\n",
      "llama_model_loader: - kv  13:                      tokenizer.ggml.scores arr[f32,32000]   = [0.000000, 0.000000, 0.000000, 0.0000...\n",
      "llama_model_loader: - kv  14:                  tokenizer.ggml.token_type arr[i32,32000]   = [2, 3, 3, 6, 6, 6, 6, 6, 6, 6, 6, 6, ...\n",
      "llama_model_loader: - kv  15:                tokenizer.ggml.bos_token_id u32              = 1\n",
      "llama_model_loader: - kv  16:                tokenizer.ggml.eos_token_id u32              = 2\n",
      "llama_model_loader: - kv  17:            tokenizer.ggml.unknown_token_id u32              = 0\n",
      "llama_model_loader: - kv  18:               general.quantization_version u32              = 2\n",
      "llama_model_loader: - type  f32:   81 tensors\n",
      "llama_model_loader: - type q4_0:  281 tensors\n",
      "llama_model_loader: - type q6_K:    1 tensors\n",
      "llm_load_vocab: special tokens definition check successful ( 259/32000 ).\n",
      "llm_load_print_meta: format           = GGUF V2\n",
      "llm_load_print_meta: arch             = llama\n",
      "llm_load_print_meta: vocab type       = SPM\n",
      "llm_load_print_meta: n_vocab          = 32000\n",
      "llm_load_print_meta: n_merges         = 0\n",
      "llm_load_print_meta: n_ctx_train      = 4096\n",
      "llm_load_print_meta: n_embd           = 5120\n",
      "llm_load_print_meta: n_head           = 40\n",
      "llm_load_print_meta: n_head_kv        = 40\n",
      "llm_load_print_meta: n_layer          = 40\n",
      "llm_load_print_meta: n_rot            = 128\n",
      "llm_load_print_meta: n_embd_head_k    = 128\n",
      "llm_load_print_meta: n_embd_head_v    = 128\n",
      "llm_load_print_meta: n_gqa            = 1\n",
      "llm_load_print_meta: n_embd_k_gqa     = 5120\n",
      "llm_load_print_meta: n_embd_v_gqa     = 5120\n",
      "llm_load_print_meta: f_norm_eps       = 0.0e+00\n",
      "llm_load_print_meta: f_norm_rms_eps   = 1.0e-05\n",
      "llm_load_print_meta: f_clamp_kqv      = 0.0e+00\n",
      "llm_load_print_meta: f_max_alibi_bias = 0.0e+00\n",
      "llm_load_print_meta: f_logit_scale    = 0.0e+00\n",
      "llm_load_print_meta: n_ff             = 13824\n",
      "llm_load_print_meta: n_expert         = 0\n",
      "llm_load_print_meta: n_expert_used    = 0\n",
      "llm_load_print_meta: causal attn      = 1\n",
      "llm_load_print_meta: pooling type     = 0\n",
      "llm_load_print_meta: rope type        = 0\n",
      "llm_load_print_meta: rope scaling     = linear\n",
      "llm_load_print_meta: freq_base_train  = 10000.0\n",
      "llm_load_print_meta: freq_scale_train = 1\n",
      "llm_load_print_meta: n_yarn_orig_ctx  = 4096\n",
      "llm_load_print_meta: rope_finetuned   = unknown\n",
      "llm_load_print_meta: ssm_d_conv       = 0\n",
      "llm_load_print_meta: ssm_d_inner      = 0\n",
      "llm_load_print_meta: ssm_d_state      = 0\n",
      "llm_load_print_meta: ssm_dt_rank      = 0\n",
      "llm_load_print_meta: model type       = 13B\n",
      "llm_load_print_meta: model ftype      = Q4_0\n",
      "llm_load_print_meta: model params     = 13.02 B\n",
      "llm_load_print_meta: model size       = 6.86 GiB (4.53 BPW) \n",
      "llm_load_print_meta: general.name     = LLaMA v2\n",
      "llm_load_print_meta: BOS token        = 1 '<s>'\n",
      "llm_load_print_meta: EOS token        = 2 '</s>'\n",
      "llm_load_print_meta: UNK token        = 0 '<unk>'\n",
      "llm_load_print_meta: LF token         = 13 '<0x0A>'\n",
      "llm_load_tensors: ggml ctx size =    0.18 MiB\n",
      "llm_load_tensors:        CPU buffer size =  7023.90 MiB\n",
      "...................................................................................................\n",
      "llama_new_context_with_model: n_ctx      = 3904\n",
      "llama_new_context_with_model: n_batch    = 512\n",
      "llama_new_context_with_model: n_ubatch   = 512\n",
      "llama_new_context_with_model: freq_base  = 10000.0\n",
      "llama_new_context_with_model: freq_scale = 1\n"
     ]
    }
   ],
   "source": [
    "from llama_index.core import SimpleDirectoryReader, VectorStoreIndex\n",
    "from llama_index.llms.llama_cpp import LlamaCPP\n",
    "from llama_index.llms.llama_cpp.llama_utils import (\n",
    "    messages_to_prompt,\n",
    "    completion_to_prompt,\n",
    ")\n",
    "\n",
    "model_url = \"https://huggingface.co/TheBloke/Llama-2-13B-chat-GGML/resolve/main/llama-2-13b-chat.ggmlv3.q4_0.bin\"\n",
    "model_path = \"C:/Users/Ugne/AppData/Local/llama_index/models/llama-2-13b-chat.Q4_0.gguf\"\n",
    "\n",
    "llm = LlamaCPP(\n",
    "    model_path=model_path,\n",
    "    temperature=0.7,\n",
    "    max_new_tokens=256,\n",
    "    # llama2 has a context window of 4096 tokens, but we set it lower to allow for some wiggle room\n",
    "    context_window=3900,\n",
    "    # kwargs to pass to __call__()\n",
    "    generate_kwargs={},\n",
    "    # kwargs to pass to __init__()\n",
    "    # set to at least 1 to use GPU\n",
    "    model_kwargs={\"n_gpu_layers\": 1},\n",
    "    # transform inputs into Llama2 format\n",
    "    messages_to_prompt=messages_to_prompt,\n",
    "    completion_to_prompt=completion_to_prompt,\n",
    "    verbose=True,\n",
    ")"
   ]
  },
  {
   "cell_type": "markdown",
   "metadata": {},
   "source": [
    "## Initialising the vector store"
   ]
  },
  {
   "cell_type": "code",
   "execution_count": 4,
   "metadata": {},
   "outputs": [],
   "source": [
    "load_dotenv(find_dotenv())\n",
    "os.environ[\"OPENAI_API_KEY\"] = os.getenv(\"OPENAI_API_KEY\")"
   ]
  },
  {
   "cell_type": "code",
   "execution_count": 5,
   "metadata": {},
   "outputs": [],
   "source": [
    "db_name = \"vectors_db\"\n",
    "host = \"localhost\"\n",
    "password = os.getenv(\"POSTGRES_PW\")\n",
    "port = \"5432\"\n",
    "user = \"postgres\"\n",
    "\n",
    "conn = psycopg2.connect(\n",
    "    dbname=\"postgres\",\n",
    "    host=host,\n",
    "    password=password,\n",
    "    port=port,\n",
    "    user=user,\n",
    ")\n",
    "conn.autocommit = True\n",
    "\n",
    "vector_store = PGVectorStore.from_params(\n",
    "    database=db_name,\n",
    "    host=host,\n",
    "    password=password,\n",
    "    port=port,\n",
    "    user=user,\n",
    "    table_name=\"llama2_paper\",\n",
    "    embed_dim=384,  # openai embedding dimension\n",
    ")"
   ]
  },
  {
   "cell_type": "markdown",
   "metadata": {},
   "source": [
    "# Retrieval"
   ]
  },
  {
   "cell_type": "markdown",
   "metadata": {},
   "source": [
    "##  Parse Result into a Set of Nodes"
   ]
  },
  {
   "cell_type": "code",
   "execution_count": 6,
   "metadata": {},
   "outputs": [],
   "source": [
    "def get_top_result_from_vector_store(query_str, vector_store, query_mode=\"default\"):\n",
    "    query_embedding = embed_model.get_query_embedding(query_str)\n",
    "    vector_store_query = VectorStoreQuery(\n",
    "    query_embedding=query_embedding, similarity_top_k=2, mode=query_mode\n",
    "    )\n",
    "    query_result = vector_store.query(vector_store_query)\n",
    "    print(query_result.nodes[0].get_content())\n",
    "    return query_result"
   ]
  },
  {
   "cell_type": "code",
   "execution_count": 7,
   "metadata": {},
   "outputs": [
    {
     "name": "stdout",
     "output_type": "stream",
     "text": [
      "After the renewed premises of the Vilnius TV Tower were opened on Tuesday, it is now possible to rent apartments at the historic building for between 796 and 954 euros per night.The Vilnius TV Tower now has a refurbished bar, a meeting room, and two apartments, called Upė (River) and Miestas (City). According to the booking.com website, the apartments can be booked from next week. They are rented directly to customers by the state-owned Lithuanian Radio and Television Centre (Telecentras).According to Valdas Kaminskas, head of communications at Telecentras, the apartments oversee different panoramas of the city.“One view is directed towards Vingis Park, while the other is more towards the city. The apartments are dominated by an oval shape, which echoes the roundness of the TV Tower,” he said.Asked about the price, Kaminskas noted that apartments are aimed at an exclusive segment of consumers.“These are the people who can either afford or are curious and can rent, try, experience a certain luxury,” he said, adding that the price is similar to apartments in TV Towers in other countries.With an opening event on Tuesday, the state-owned Telecentras completed a part of the reconstruction of the Vilnius TV Tower, worth 5.35 million euros.“With the opening of the new spaces in the upper cup of the TV tower, the reconstruction works will continue – they will move to the restaurant Paukščių Takas. On the floor below the restaurant, it is also planned to open another open observation deck,” Remigijus Šeris, the head of Telecentras, said at the event.On Tuesday, the bistro-bar Toliai opened on the 67th floor of the tower and the meeting room, with lounges for small events, opened on the floor above it.The Vilnius TV Tower is the tallest building in Lithuania and is included in the Cultural Heritage Register. The 326-metre-high tower was built in 1980.Weekly newsletter every Friday\n"
     ]
    }
   ],
   "source": [
    "query_str = \"Tell me about the Vilnius TV tower\"\n",
    "query_result = get_top_result_from_vector_store(query_str, vector_store, query_mode=\"default\")"
   ]
  },
  {
   "cell_type": "code",
   "execution_count": 8,
   "metadata": {},
   "outputs": [],
   "source": [
    "nodes_with_scores = []\n",
    "for index, node in enumerate(query_result.nodes):\n",
    "    score: Optional[float] = None\n",
    "    if query_result.similarities is not None:\n",
    "        score = query_result.similarities[index]\n",
    "    nodes_with_scores.append(NodeWithScore(node=node, score=score))"
   ]
  },
  {
   "cell_type": "code",
   "execution_count": 9,
   "metadata": {},
   "outputs": [
    {
     "data": {
      "text/plain": [
       "[NodeWithScore(node=TextNode(id_='d29acc21-137e-4e24-a4c4-ebd8f932b943', embedding=None, metadata={'source_url': ''}, excluded_embed_metadata_keys=[], excluded_llm_metadata_keys=[], relationships={}, text='After the renewed premises of the Vilnius TV Tower were opened on Tuesday, it is now possible to rent apartments at the historic building for between 796 and 954 euros per night.The Vilnius TV Tower now has a refurbished bar, a meeting room, and two apartments, called Upė (River) and Miestas (City). According to the booking.com website, the apartments can be booked from next week. They are rented directly to customers by the state-owned Lithuanian Radio and Television Centre (Telecentras).According to Valdas Kaminskas, head of communications at Telecentras, the apartments oversee different panoramas of the city.“One view is directed towards Vingis Park, while the other is more towards the city. The apartments are dominated by an oval shape, which echoes the roundness of the TV Tower,” he said.Asked about the price, Kaminskas noted that apartments are aimed at an exclusive segment of consumers.“These are the people who can either afford or are curious and can rent, try, experience a certain luxury,” he said, adding that the price is similar to apartments in TV Towers in other countries.With an opening event on Tuesday, the state-owned Telecentras completed a part of the reconstruction of the Vilnius TV Tower, worth 5.35 million euros.“With the opening of the new spaces in the upper cup of the TV tower, the reconstruction works will continue – they will move to the restaurant Paukščių Takas. On the floor below the restaurant, it is also planned to open another open observation deck,” Remigijus Šeris, the head of Telecentras, said at the event.On Tuesday, the bistro-bar Toliai opened on the 67th floor of the tower and the meeting room, with lounges for small events, opened on the floor above it.The Vilnius TV Tower is the tallest building in Lithuania and is included in the Cultural Heritage Register. The 326-metre-high tower was built in 1980.Weekly newsletter every Friday', start_char_idx=None, end_char_idx=None, text_template='{metadata_str}\\n\\n{content}', metadata_template='{key}: {value}', metadata_seperator='\\n'), score=0.9102805852890015),\n",
       " NodeWithScore(node=TextNode(id_='7de6f92f-e6c8-497f-9c1c-d76cf874f4e2', embedding=None, metadata={'source_url': ''}, excluded_embed_metadata_keys=[], excluded_llm_metadata_keys=[], relationships={}, text='In January 1981, the 326-metre television tower, the tallest building in Lithuania, was completed and inaugurated in Vilnius.In 1979, Vilnius University celebrated its 400th anniversary with spectacular celebrations. Despite its Soviet overtones, the huge celebration was a boost to the self-esteem of Vilnius University as the oldest university in Eastern Europe (older than Moscow University).In 1987, the first unsanctioned rally was held at the monument to Adam Mickiewicz, publicly denouncing the secret protocols of the Soviet-German Non-Aggression Pact of 23 August 1939. The August 1988 rally in Vingio Park and the September rally in Cathedral Square, violently attacked by the police, became symbols of the “Singing Revolution”.On 22 October 1988, the Sąjūdis congress proclaimed the return of the Cathedral, which was used as a museum, to the Catholic Church. In the morning of 23 October, Lithuanian bishops and Cardinal Vincentas Sladkevičius celebrated the Mass at the door of the Cathedral.On 11 March 1990, the Supreme Council of the Lithuanian SSR in Vilnius proclaimed Lithuania’s independence.On 13 January 1991, in last-ditch attempt to regain control, Soviet tanks, armoured personnel carriers and armed soldiers stormed the Vilnius TV Tower and the Lithuanian Radio and Television building. Fourteen civilians were killed and over a thousand wounded.The capital of independent LithuaniaOn 23 August 1991, the City Council decided to remove the Lenin monument in Lukiškių Square. The images of the Soviet monument being dismantled amidst shouts of joy and applause went around the world.In 1992 and 2000, the Polish Nobel Prize-winning author and graduate of Stepan Batory University Czesław Miłosz visited Vilnius and his alma mater. On the occasion of the 100th anniversary of Miłosz’s birth, a plaque was unveiled in the Sarbievius Courtyard of Vilnius University.On 17 December 1994, the historic centre of Vilnius was added to the UNESCO World Heritage List.On 22 September 1996, at the foot of Gediminas Hill, near the Cathedral, a monument to Grand Duke Gediminas was unveiled, designed by the Lithuanian expatriate sculptor Vytautas Kašuba and made by the sculptor Mindaugas Šnipas. The monument was hotly debated at the time, with controversy surrounding both its artistic solution and the chosen location.On 1 January 2009, Vilnius became the European Capital of Culture. Around 1,500 events took place during the year, attended by around 1.5 million people.On 6 July 2018, the completed Palace of the Grand Dukes was inaugurated in Vilnius. The Palace of the Grand Dukes, which was demolished 200 years ago, was rebuilt over the excavated remains of the original edifice. The first part of the palace was opened to visitors in 2013, but the entire construction took 15 years and cost over 100 million euros.On 6 October 2018, partisan commander Adolfas Ramanauskas-Vanagas was honoured with a state funeral. His remains, found a few months previously in the Orphans’ Cemetery, were ceremoniously reburied in the Pantheon of Heads of State in Antakalnis Cemetery.In July 2019, Lukiškės Prison in the centre of Vilnius was closed after its last inmates were moved out. The complex of buildings, built in 1904 and recognised as a cultural heritage site, became an events space.After 24 February 2022, Vilnius welcomed refugees from Ukraine and held numerous support rallies for the country under attack. More than 20,000 refugees from Ukraine have taken refuge in Vilnius. On 9 March, Vilnius City Council named a stretch of an unnamed street leading to the Russian Embassy after the Ukrainian Heroes.', start_char_idx=None, end_char_idx=None, text_template='{metadata_str}\\n\\n{content}', metadata_template='{key}: {value}', metadata_seperator='\\n'), score=0.9019476829798426)]"
      ]
     },
     "execution_count": 9,
     "metadata": {},
     "output_type": "execute_result"
    }
   ],
   "source": [
    "nodes_with_scores"
   ]
  },
  {
   "cell_type": "markdown",
   "metadata": {},
   "source": [
    "## Plugging into RetrieverQueryEngine"
   ]
  },
  {
   "cell_type": "code",
   "execution_count": null,
   "metadata": {},
   "outputs": [],
   "source": [
    "retriever = VectorDBRetriever(\n",
    "    vector_store, embed_model, query_mode=\"default\", similarity_top_k=2\n",
    ")"
   ]
  },
  {
   "cell_type": "code",
   "execution_count": null,
   "metadata": {},
   "outputs": [
    {
     "name": "stderr",
     "output_type": "stream",
     "text": [
      "Batches: 100%|██████████| 1/1 [00:06<00:00,  6.54s/it]\n"
     ]
    }
   ],
   "source": [
    "from llama_index.core.query_engine import RetrieverQueryEngine\n",
    "\n",
    "query_engine = RetrieverQueryEngine.from_args(retriever, llm=llm)\n",
    "\n",
    "query_str = \"Tell me about the Vilnius TV tower\"\n",
    "\n",
    "response = query_engine.query(query_str)"
   ]
  },
  {
   "cell_type": "code",
   "execution_count": 4,
   "metadata": {},
   "outputs": [
    {
     "ename": "NameError",
     "evalue": "name 'response' is not defined",
     "output_type": "error",
     "traceback": [
      "\u001b[1;31m---------------------------------------------------------------------------\u001b[0m",
      "\u001b[1;31mNameError\u001b[0m                                 Traceback (most recent call last)",
      "Cell \u001b[1;32mIn[4], line 1\u001b[0m\n\u001b[1;32m----> 1\u001b[0m \u001b[38;5;28mprint\u001b[39m(\u001b[38;5;28mstr\u001b[39m(\u001b[43mresponse\u001b[49m))\n",
      "\u001b[1;31mNameError\u001b[0m: name 'response' is not defined"
     ]
    }
   ],
   "source": [
    "print(str(response))"
   ]
  }
 ],
 "metadata": {
  "kernelspec": {
   "display_name": ".venv",
   "language": "python",
   "name": "python3"
  },
  "language_info": {
   "codemirror_mode": {
    "name": "ipython",
    "version": 3
   },
   "file_extension": ".py",
   "mimetype": "text/x-python",
   "name": "python",
   "nbconvert_exporter": "python",
   "pygments_lexer": "ipython3",
   "version": "3.11.8"
  }
 },
 "nbformat": 4,
 "nbformat_minor": 2
}
